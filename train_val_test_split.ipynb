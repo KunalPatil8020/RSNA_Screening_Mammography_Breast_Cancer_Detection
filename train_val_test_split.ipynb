{
  "cells": [
    {
      "cell_type": "code",
      "execution_count": 8,
      "metadata": {
        "id": "XTUnLVvfdmx1"
      },
      "outputs": [],
      "source": [
        "import pandas as pd\n",
        "import torch\n",
        "import torch.nn as nn\n",
        "from torch.utils.data import DataLoader, Dataset, WeightedRandomSampler\n",
        "from torchvision import transforms"
      ]
    },
    {
      "cell_type": "code",
      "execution_count": 2,
      "metadata": {},
      "outputs": [],
      "source": [
        "path='/media/rohit/mirlproject2/rsna-breast-cancer-detection'"
      ]
    },
    {
      "cell_type": "code",
      "execution_count": 3,
      "metadata": {},
      "outputs": [],
      "source": [
        "train_df = pd.read_csv('./train.csv')"
      ]
    },
    {
      "cell_type": "code",
      "execution_count": 4,
      "metadata": {},
      "outputs": [
        {
          "data": {
            "text/html": [
              "<div>\n",
              "<style scoped>\n",
              "    .dataframe tbody tr th:only-of-type {\n",
              "        vertical-align: middle;\n",
              "    }\n",
              "\n",
              "    .dataframe tbody tr th {\n",
              "        vertical-align: top;\n",
              "    }\n",
              "\n",
              "    .dataframe thead th {\n",
              "        text-align: right;\n",
              "    }\n",
              "</style>\n",
              "<table border=\"1\" class=\"dataframe\">\n",
              "  <thead>\n",
              "    <tr style=\"text-align: right;\">\n",
              "      <th></th>\n",
              "      <th>site_id</th>\n",
              "      <th>patient_id</th>\n",
              "      <th>image_id</th>\n",
              "      <th>laterality</th>\n",
              "      <th>view</th>\n",
              "      <th>age</th>\n",
              "      <th>cancer</th>\n",
              "      <th>biopsy</th>\n",
              "      <th>invasive</th>\n",
              "      <th>BIRADS</th>\n",
              "      <th>implant</th>\n",
              "      <th>density</th>\n",
              "      <th>machine_id</th>\n",
              "      <th>difficult_negative_case</th>\n",
              "    </tr>\n",
              "  </thead>\n",
              "  <tbody>\n",
              "    <tr>\n",
              "      <th>0</th>\n",
              "      <td>2</td>\n",
              "      <td>10006</td>\n",
              "      <td>462822612</td>\n",
              "      <td>L</td>\n",
              "      <td>CC</td>\n",
              "      <td>61.0</td>\n",
              "      <td>0</td>\n",
              "      <td>0</td>\n",
              "      <td>0</td>\n",
              "      <td>NaN</td>\n",
              "      <td>0</td>\n",
              "      <td>NaN</td>\n",
              "      <td>29</td>\n",
              "      <td>False</td>\n",
              "    </tr>\n",
              "    <tr>\n",
              "      <th>1</th>\n",
              "      <td>2</td>\n",
              "      <td>10006</td>\n",
              "      <td>1459541791</td>\n",
              "      <td>L</td>\n",
              "      <td>MLO</td>\n",
              "      <td>61.0</td>\n",
              "      <td>0</td>\n",
              "      <td>0</td>\n",
              "      <td>0</td>\n",
              "      <td>NaN</td>\n",
              "      <td>0</td>\n",
              "      <td>NaN</td>\n",
              "      <td>29</td>\n",
              "      <td>False</td>\n",
              "    </tr>\n",
              "    <tr>\n",
              "      <th>2</th>\n",
              "      <td>2</td>\n",
              "      <td>10006</td>\n",
              "      <td>1864590858</td>\n",
              "      <td>R</td>\n",
              "      <td>MLO</td>\n",
              "      <td>61.0</td>\n",
              "      <td>0</td>\n",
              "      <td>0</td>\n",
              "      <td>0</td>\n",
              "      <td>NaN</td>\n",
              "      <td>0</td>\n",
              "      <td>NaN</td>\n",
              "      <td>29</td>\n",
              "      <td>False</td>\n",
              "    </tr>\n",
              "    <tr>\n",
              "      <th>3</th>\n",
              "      <td>2</td>\n",
              "      <td>10006</td>\n",
              "      <td>1874946579</td>\n",
              "      <td>R</td>\n",
              "      <td>CC</td>\n",
              "      <td>61.0</td>\n",
              "      <td>0</td>\n",
              "      <td>0</td>\n",
              "      <td>0</td>\n",
              "      <td>NaN</td>\n",
              "      <td>0</td>\n",
              "      <td>NaN</td>\n",
              "      <td>29</td>\n",
              "      <td>False</td>\n",
              "    </tr>\n",
              "    <tr>\n",
              "      <th>4</th>\n",
              "      <td>2</td>\n",
              "      <td>10011</td>\n",
              "      <td>220375232</td>\n",
              "      <td>L</td>\n",
              "      <td>CC</td>\n",
              "      <td>55.0</td>\n",
              "      <td>0</td>\n",
              "      <td>0</td>\n",
              "      <td>0</td>\n",
              "      <td>0.0</td>\n",
              "      <td>0</td>\n",
              "      <td>NaN</td>\n",
              "      <td>21</td>\n",
              "      <td>True</td>\n",
              "    </tr>\n",
              "    <tr>\n",
              "      <th>...</th>\n",
              "      <td>...</td>\n",
              "      <td>...</td>\n",
              "      <td>...</td>\n",
              "      <td>...</td>\n",
              "      <td>...</td>\n",
              "      <td>...</td>\n",
              "      <td>...</td>\n",
              "      <td>...</td>\n",
              "      <td>...</td>\n",
              "      <td>...</td>\n",
              "      <td>...</td>\n",
              "      <td>...</td>\n",
              "      <td>...</td>\n",
              "      <td>...</td>\n",
              "    </tr>\n",
              "    <tr>\n",
              "      <th>54701</th>\n",
              "      <td>1</td>\n",
              "      <td>9973</td>\n",
              "      <td>1729524723</td>\n",
              "      <td>R</td>\n",
              "      <td>MLO</td>\n",
              "      <td>43.0</td>\n",
              "      <td>0</td>\n",
              "      <td>0</td>\n",
              "      <td>0</td>\n",
              "      <td>1.0</td>\n",
              "      <td>0</td>\n",
              "      <td>C</td>\n",
              "      <td>49</td>\n",
              "      <td>False</td>\n",
              "    </tr>\n",
              "    <tr>\n",
              "      <th>54702</th>\n",
              "      <td>1</td>\n",
              "      <td>9989</td>\n",
              "      <td>63473691</td>\n",
              "      <td>L</td>\n",
              "      <td>MLO</td>\n",
              "      <td>60.0</td>\n",
              "      <td>0</td>\n",
              "      <td>0</td>\n",
              "      <td>0</td>\n",
              "      <td>NaN</td>\n",
              "      <td>0</td>\n",
              "      <td>C</td>\n",
              "      <td>216</td>\n",
              "      <td>False</td>\n",
              "    </tr>\n",
              "    <tr>\n",
              "      <th>54703</th>\n",
              "      <td>1</td>\n",
              "      <td>9989</td>\n",
              "      <td>1078943060</td>\n",
              "      <td>L</td>\n",
              "      <td>CC</td>\n",
              "      <td>60.0</td>\n",
              "      <td>0</td>\n",
              "      <td>0</td>\n",
              "      <td>0</td>\n",
              "      <td>NaN</td>\n",
              "      <td>0</td>\n",
              "      <td>C</td>\n",
              "      <td>216</td>\n",
              "      <td>False</td>\n",
              "    </tr>\n",
              "    <tr>\n",
              "      <th>54704</th>\n",
              "      <td>1</td>\n",
              "      <td>9989</td>\n",
              "      <td>398038886</td>\n",
              "      <td>R</td>\n",
              "      <td>MLO</td>\n",
              "      <td>60.0</td>\n",
              "      <td>0</td>\n",
              "      <td>0</td>\n",
              "      <td>0</td>\n",
              "      <td>0.0</td>\n",
              "      <td>0</td>\n",
              "      <td>C</td>\n",
              "      <td>216</td>\n",
              "      <td>True</td>\n",
              "    </tr>\n",
              "    <tr>\n",
              "      <th>54705</th>\n",
              "      <td>1</td>\n",
              "      <td>9989</td>\n",
              "      <td>439796429</td>\n",
              "      <td>R</td>\n",
              "      <td>CC</td>\n",
              "      <td>60.0</td>\n",
              "      <td>0</td>\n",
              "      <td>0</td>\n",
              "      <td>0</td>\n",
              "      <td>0.0</td>\n",
              "      <td>0</td>\n",
              "      <td>C</td>\n",
              "      <td>216</td>\n",
              "      <td>True</td>\n",
              "    </tr>\n",
              "  </tbody>\n",
              "</table>\n",
              "<p>54706 rows × 14 columns</p>\n",
              "</div>"
            ],
            "text/plain": [
              "       site_id  patient_id    image_id laterality view   age  cancer  biopsy  \\\n",
              "0            2       10006   462822612          L   CC  61.0       0       0   \n",
              "1            2       10006  1459541791          L  MLO  61.0       0       0   \n",
              "2            2       10006  1864590858          R  MLO  61.0       0       0   \n",
              "3            2       10006  1874946579          R   CC  61.0       0       0   \n",
              "4            2       10011   220375232          L   CC  55.0       0       0   \n",
              "...        ...         ...         ...        ...  ...   ...     ...     ...   \n",
              "54701        1        9973  1729524723          R  MLO  43.0       0       0   \n",
              "54702        1        9989    63473691          L  MLO  60.0       0       0   \n",
              "54703        1        9989  1078943060          L   CC  60.0       0       0   \n",
              "54704        1        9989   398038886          R  MLO  60.0       0       0   \n",
              "54705        1        9989   439796429          R   CC  60.0       0       0   \n",
              "\n",
              "       invasive  BIRADS  implant density  machine_id  difficult_negative_case  \n",
              "0             0     NaN        0     NaN          29                    False  \n",
              "1             0     NaN        0     NaN          29                    False  \n",
              "2             0     NaN        0     NaN          29                    False  \n",
              "3             0     NaN        0     NaN          29                    False  \n",
              "4             0     0.0        0     NaN          21                     True  \n",
              "...         ...     ...      ...     ...         ...                      ...  \n",
              "54701         0     1.0        0       C          49                    False  \n",
              "54702         0     NaN        0       C         216                    False  \n",
              "54703         0     NaN        0       C         216                    False  \n",
              "54704         0     0.0        0       C         216                     True  \n",
              "54705         0     0.0        0       C         216                     True  \n",
              "\n",
              "[54706 rows x 14 columns]"
            ]
          },
          "execution_count": 4,
          "metadata": {},
          "output_type": "execute_result"
        }
      ],
      "source": [
        "train_df"
      ]
    },
    {
      "cell_type": "code",
      "execution_count": 5,
      "metadata": {},
      "outputs": [],
      "source": [
        "ddsm = train_df[['patient_id', 'image_id', 'cancer']]"
      ]
    },
    {
      "cell_type": "code",
      "execution_count": 6,
      "metadata": {},
      "outputs": [
        {
          "name": "stderr",
          "output_type": "stream",
          "text": [
            "/tmp/ipykernel_118709/4225720695.py:2: SettingWithCopyWarning: \n",
            "A value is trying to be set on a copy of a slice from a DataFrame.\n",
            "Try using .loc[row_indexer,col_indexer] = value instead\n",
            "\n",
            "See the caveats in the documentation: https://pandas.pydata.org/pandas-docs/stable/user_guide/indexing.html#returning-a-view-versus-a-copy\n",
            "  ddsm['img_path_list'] = ddsm.apply(lambda x: img_folder+str(x.patient_id)+'/'+str(x.image_id)+'.png', axis = 1)\n"
          ]
        },
        {
          "data": {
            "text/html": [
              "<div>\n",
              "<style scoped>\n",
              "    .dataframe tbody tr th:only-of-type {\n",
              "        vertical-align: middle;\n",
              "    }\n",
              "\n",
              "    .dataframe tbody tr th {\n",
              "        vertical-align: top;\n",
              "    }\n",
              "\n",
              "    .dataframe thead th {\n",
              "        text-align: right;\n",
              "    }\n",
              "</style>\n",
              "<table border=\"1\" class=\"dataframe\">\n",
              "  <thead>\n",
              "    <tr style=\"text-align: right;\">\n",
              "      <th></th>\n",
              "      <th>patient_id</th>\n",
              "      <th>image_id</th>\n",
              "      <th>cancer</th>\n",
              "      <th>img_path_list</th>\n",
              "    </tr>\n",
              "  </thead>\n",
              "  <tbody>\n",
              "    <tr>\n",
              "      <th>54691</th>\n",
              "      <td>9968</td>\n",
              "      <td>2098937312</td>\n",
              "      <td>0</td>\n",
              "      <td>./archive (1)/train_images/9968/2098937312.png</td>\n",
              "    </tr>\n",
              "    <tr>\n",
              "      <th>54692</th>\n",
              "      <td>9968</td>\n",
              "      <td>294168046</td>\n",
              "      <td>0</td>\n",
              "      <td>./archive (1)/train_images/9968/294168046.png</td>\n",
              "    </tr>\n",
              "    <tr>\n",
              "      <th>54693</th>\n",
              "      <td>9968</td>\n",
              "      <td>568005453</td>\n",
              "      <td>0</td>\n",
              "      <td>./archive (1)/train_images/9968/568005453.png</td>\n",
              "    </tr>\n",
              "    <tr>\n",
              "      <th>54694</th>\n",
              "      <td>997</td>\n",
              "      <td>873425464</td>\n",
              "      <td>0</td>\n",
              "      <td>./archive (1)/train_images/997/873425464.png</td>\n",
              "    </tr>\n",
              "    <tr>\n",
              "      <th>54695</th>\n",
              "      <td>997</td>\n",
              "      <td>2129119612</td>\n",
              "      <td>0</td>\n",
              "      <td>./archive (1)/train_images/997/2129119612.png</td>\n",
              "    </tr>\n",
              "    <tr>\n",
              "      <th>54696</th>\n",
              "      <td>997</td>\n",
              "      <td>1487679918</td>\n",
              "      <td>0</td>\n",
              "      <td>./archive (1)/train_images/997/1487679918.png</td>\n",
              "    </tr>\n",
              "    <tr>\n",
              "      <th>54697</th>\n",
              "      <td>997</td>\n",
              "      <td>1775983513</td>\n",
              "      <td>0</td>\n",
              "      <td>./archive (1)/train_images/997/1775983513.png</td>\n",
              "    </tr>\n",
              "    <tr>\n",
              "      <th>54698</th>\n",
              "      <td>9973</td>\n",
              "      <td>1345265157</td>\n",
              "      <td>0</td>\n",
              "      <td>./archive (1)/train_images/9973/1345265157.png</td>\n",
              "    </tr>\n",
              "    <tr>\n",
              "      <th>54699</th>\n",
              "      <td>9973</td>\n",
              "      <td>1703611570</td>\n",
              "      <td>0</td>\n",
              "      <td>./archive (1)/train_images/9973/1703611570.png</td>\n",
              "    </tr>\n",
              "    <tr>\n",
              "      <th>54700</th>\n",
              "      <td>9973</td>\n",
              "      <td>655941939</td>\n",
              "      <td>0</td>\n",
              "      <td>./archive (1)/train_images/9973/655941939.png</td>\n",
              "    </tr>\n",
              "    <tr>\n",
              "      <th>54701</th>\n",
              "      <td>9973</td>\n",
              "      <td>1729524723</td>\n",
              "      <td>0</td>\n",
              "      <td>./archive (1)/train_images/9973/1729524723.png</td>\n",
              "    </tr>\n",
              "    <tr>\n",
              "      <th>54702</th>\n",
              "      <td>9989</td>\n",
              "      <td>63473691</td>\n",
              "      <td>0</td>\n",
              "      <td>./archive (1)/train_images/9989/63473691.png</td>\n",
              "    </tr>\n",
              "    <tr>\n",
              "      <th>54703</th>\n",
              "      <td>9989</td>\n",
              "      <td>1078943060</td>\n",
              "      <td>0</td>\n",
              "      <td>./archive (1)/train_images/9989/1078943060.png</td>\n",
              "    </tr>\n",
              "    <tr>\n",
              "      <th>54704</th>\n",
              "      <td>9989</td>\n",
              "      <td>398038886</td>\n",
              "      <td>0</td>\n",
              "      <td>./archive (1)/train_images/9989/398038886.png</td>\n",
              "    </tr>\n",
              "    <tr>\n",
              "      <th>54705</th>\n",
              "      <td>9989</td>\n",
              "      <td>439796429</td>\n",
              "      <td>0</td>\n",
              "      <td>./archive (1)/train_images/9989/439796429.png</td>\n",
              "    </tr>\n",
              "  </tbody>\n",
              "</table>\n",
              "</div>"
            ],
            "text/plain": [
              "       patient_id    image_id  cancer  \\\n",
              "54691        9968  2098937312       0   \n",
              "54692        9968   294168046       0   \n",
              "54693        9968   568005453       0   \n",
              "54694         997   873425464       0   \n",
              "54695         997  2129119612       0   \n",
              "54696         997  1487679918       0   \n",
              "54697         997  1775983513       0   \n",
              "54698        9973  1345265157       0   \n",
              "54699        9973  1703611570       0   \n",
              "54700        9973   655941939       0   \n",
              "54701        9973  1729524723       0   \n",
              "54702        9989    63473691       0   \n",
              "54703        9989  1078943060       0   \n",
              "54704        9989   398038886       0   \n",
              "54705        9989   439796429       0   \n",
              "\n",
              "                                        img_path_list  \n",
              "54691  ./archive (1)/train_images/9968/2098937312.png  \n",
              "54692   ./archive (1)/train_images/9968/294168046.png  \n",
              "54693   ./archive (1)/train_images/9968/568005453.png  \n",
              "54694    ./archive (1)/train_images/997/873425464.png  \n",
              "54695   ./archive (1)/train_images/997/2129119612.png  \n",
              "54696   ./archive (1)/train_images/997/1487679918.png  \n",
              "54697   ./archive (1)/train_images/997/1775983513.png  \n",
              "54698  ./archive (1)/train_images/9973/1345265157.png  \n",
              "54699  ./archive (1)/train_images/9973/1703611570.png  \n",
              "54700   ./archive (1)/train_images/9973/655941939.png  \n",
              "54701  ./archive (1)/train_images/9973/1729524723.png  \n",
              "54702    ./archive (1)/train_images/9989/63473691.png  \n",
              "54703  ./archive (1)/train_images/9989/1078943060.png  \n",
              "54704   ./archive (1)/train_images/9989/398038886.png  \n",
              "54705   ./archive (1)/train_images/9989/439796429.png  "
            ]
          },
          "execution_count": 6,
          "metadata": {},
          "output_type": "execute_result"
        }
      ],
      "source": [
        "img_folder= './archive (1)/train_images/'\n",
        "ddsm['img_path_list'] = ddsm.apply(lambda x: img_folder+str(x.patient_id)+'/'+str(x.image_id)+'.png', axis = 1)\n",
        "\n",
        "\n",
        "ddsm.tail(15)"
      ]
    },
    {
      "cell_type": "code",
      "execution_count": 7,
      "metadata": {},
      "outputs": [
        {
          "name": "stdout",
          "output_type": "stream",
          "text": [
            "patient_id                                                10006\n",
            "image_id                                              462822612\n",
            "cancer                                                        0\n",
            "img_path_list    ./archive (1)/train_images/10006/462822612.png\n",
            "Name: 0, dtype: object\n"
          ]
        },
        {
          "data": {
            "text/plain": [
              "'./archive (1)/train_images/10006/462822612.png'"
            ]
          },
          "execution_count": 7,
          "metadata": {},
          "output_type": "execute_result"
        }
      ],
      "source": [
        "print(ddsm.iloc[0])\n",
        "ddsm.iloc[0]['img_path_list']"
      ]
    },
    {
      "cell_type": "code",
      "execution_count": 9,
      "metadata": {},
      "outputs": [
        {
          "data": {
            "text/plain": [
              "torch.Size([1, 1024, 512])"
            ]
          },
          "execution_count": 9,
          "metadata": {},
          "output_type": "execute_result"
        }
      ],
      "source": [
        "from PIL import Image\n",
        "\n",
        "img = Image.open(ddsm.iloc[17]['img_path_list'])\n",
        "img=transforms.ToTensor()(img)\n",
        "img.shape"
      ]
    },
    {
      "cell_type": "code",
      "execution_count": 10,
      "metadata": {},
      "outputs": [
        {
          "data": {
            "text/plain": [
              "54706"
            ]
          },
          "execution_count": 10,
          "metadata": {},
          "output_type": "execute_result"
        }
      ],
      "source": [
        "images_list = ddsm['img_path_list']\n",
        "images_list=list(images_list)\n",
        "len(images_list)"
      ]
    },
    {
      "cell_type": "code",
      "execution_count": 11,
      "metadata": {},
      "outputs": [
        {
          "name": "stderr",
          "output_type": "stream",
          "text": [
            "/tmp/ipykernel_118709/948297150.py:1: SettingWithCopyWarning: \n",
            "A value is trying to be set on a copy of a slice from a DataFrame\n",
            "\n",
            "See the caveats in the documentation: https://pandas.pydata.org/pandas-docs/stable/user_guide/indexing.html#returning-a-view-versus-a-copy\n",
            "  ddsm.sort_values('cancer', inplace =True)\n"
          ]
        },
        {
          "data": {
            "text/html": [
              "<div>\n",
              "<style scoped>\n",
              "    .dataframe tbody tr th:only-of-type {\n",
              "        vertical-align: middle;\n",
              "    }\n",
              "\n",
              "    .dataframe tbody tr th {\n",
              "        vertical-align: top;\n",
              "    }\n",
              "\n",
              "    .dataframe thead th {\n",
              "        text-align: right;\n",
              "    }\n",
              "</style>\n",
              "<table border=\"1\" class=\"dataframe\">\n",
              "  <thead>\n",
              "    <tr style=\"text-align: right;\">\n",
              "      <th></th>\n",
              "      <th>patient_id</th>\n",
              "      <th>image_id</th>\n",
              "      <th>cancer</th>\n",
              "      <th>img_path_list</th>\n",
              "    </tr>\n",
              "  </thead>\n",
              "  <tbody>\n",
              "    <tr>\n",
              "      <th>0</th>\n",
              "      <td>10006</td>\n",
              "      <td>462822612</td>\n",
              "      <td>0</td>\n",
              "      <td>./archive (1)/train_images/10006/462822612.png</td>\n",
              "    </tr>\n",
              "    <tr>\n",
              "      <th>36258</th>\n",
              "      <td>48921</td>\n",
              "      <td>1920949802</td>\n",
              "      <td>0</td>\n",
              "      <td>./archive (1)/train_images/48921/1920949802.png</td>\n",
              "    </tr>\n",
              "    <tr>\n",
              "      <th>36259</th>\n",
              "      <td>48939</td>\n",
              "      <td>105720752</td>\n",
              "      <td>0</td>\n",
              "      <td>./archive (1)/train_images/48939/105720752.png</td>\n",
              "    </tr>\n",
              "    <tr>\n",
              "      <th>36260</th>\n",
              "      <td>48939</td>\n",
              "      <td>441053398</td>\n",
              "      <td>0</td>\n",
              "      <td>./archive (1)/train_images/48939/441053398.png</td>\n",
              "    </tr>\n",
              "    <tr>\n",
              "      <th>36263</th>\n",
              "      <td>4894</td>\n",
              "      <td>368240487</td>\n",
              "      <td>0</td>\n",
              "      <td>./archive (1)/train_images/4894/368240487.png</td>\n",
              "    </tr>\n",
              "    <tr>\n",
              "      <th>...</th>\n",
              "      <td>...</td>\n",
              "      <td>...</td>\n",
              "      <td>...</td>\n",
              "      <td>...</td>\n",
              "    </tr>\n",
              "    <tr>\n",
              "      <th>17738</th>\n",
              "      <td>28747</td>\n",
              "      <td>1026238054</td>\n",
              "      <td>1</td>\n",
              "      <td>./archive (1)/train_images/28747/1026238054.png</td>\n",
              "    </tr>\n",
              "    <tr>\n",
              "      <th>17739</th>\n",
              "      <td>28747</td>\n",
              "      <td>2075658562</td>\n",
              "      <td>1</td>\n",
              "      <td>./archive (1)/train_images/28747/2075658562.png</td>\n",
              "    </tr>\n",
              "    <tr>\n",
              "      <th>29638</th>\n",
              "      <td>41610</td>\n",
              "      <td>1957729736</td>\n",
              "      <td>1</td>\n",
              "      <td>./archive (1)/train_images/41610/1957729736.png</td>\n",
              "    </tr>\n",
              "    <tr>\n",
              "      <th>8602</th>\n",
              "      <td>19182</td>\n",
              "      <td>1872087937</td>\n",
              "      <td>1</td>\n",
              "      <td>./archive (1)/train_images/19182/1872087937.png</td>\n",
              "    </tr>\n",
              "    <tr>\n",
              "      <th>52732</th>\n",
              "      <td>7780</td>\n",
              "      <td>512684699</td>\n",
              "      <td>1</td>\n",
              "      <td>./archive (1)/train_images/7780/512684699.png</td>\n",
              "    </tr>\n",
              "  </tbody>\n",
              "</table>\n",
              "<p>54706 rows × 4 columns</p>\n",
              "</div>"
            ],
            "text/plain": [
              "       patient_id    image_id  cancer  \\\n",
              "0           10006   462822612       0   \n",
              "36258       48921  1920949802       0   \n",
              "36259       48939   105720752       0   \n",
              "36260       48939   441053398       0   \n",
              "36263        4894   368240487       0   \n",
              "...           ...         ...     ...   \n",
              "17738       28747  1026238054       1   \n",
              "17739       28747  2075658562       1   \n",
              "29638       41610  1957729736       1   \n",
              "8602        19182  1872087937       1   \n",
              "52732        7780   512684699       1   \n",
              "\n",
              "                                         img_path_list  \n",
              "0       ./archive (1)/train_images/10006/462822612.png  \n",
              "36258  ./archive (1)/train_images/48921/1920949802.png  \n",
              "36259   ./archive (1)/train_images/48939/105720752.png  \n",
              "36260   ./archive (1)/train_images/48939/441053398.png  \n",
              "36263    ./archive (1)/train_images/4894/368240487.png  \n",
              "...                                                ...  \n",
              "17738  ./archive (1)/train_images/28747/1026238054.png  \n",
              "17739  ./archive (1)/train_images/28747/2075658562.png  \n",
              "29638  ./archive (1)/train_images/41610/1957729736.png  \n",
              "8602   ./archive (1)/train_images/19182/1872087937.png  \n",
              "52732    ./archive (1)/train_images/7780/512684699.png  \n",
              "\n",
              "[54706 rows x 4 columns]"
            ]
          },
          "execution_count": 11,
          "metadata": {},
          "output_type": "execute_result"
        }
      ],
      "source": [
        "ddsm.sort_values('cancer', inplace =True)\n",
        "ddsm"
      ]
    },
    {
      "cell_type": "code",
      "execution_count": 12,
      "metadata": {},
      "outputs": [
        {
          "data": {
            "text/plain": [
              "1158"
            ]
          },
          "execution_count": 12,
          "metadata": {},
          "output_type": "execute_result"
        }
      ],
      "source": [
        "ddsm['cancer'].sum()"
      ]
    },
    {
      "cell_type": "code",
      "execution_count": 13,
      "metadata": {},
      "outputs": [],
      "source": [
        "paths = ddsm[\"img_path_list\"]\n",
        "labels = ddsm[\"cancer\"]\n",
        "from sklearn.model_selection import train_test_split\n",
        "paths_train,paths_test,labels_train, labels_test = train_test_split(paths, labels, stratify = labels, random_state = 42, test_size = 0.10)"
      ]
    },
    {
      "cell_type": "code",
      "execution_count": 14,
      "metadata": {},
      "outputs": [],
      "source": [
        "paths_train,paths_val, labels_train, labels_val = train_test_split(paths_train,labels_train, stratify = labels_train, random_state = 42, test_size =0.11)"
      ]
    },
    {
      "cell_type": "code",
      "execution_count": 15,
      "metadata": {},
      "outputs": [],
      "source": [
        "df1 = pd.DataFrame()\n",
        "df1[\"img_path\"] = paths_train\n",
        "df1[\"labels\"] = labels_train\n",
        "df1.to_csv(\"./csv/train.csv\")\n",
        "df2 = pd.DataFrame()\n",
        "df2[\"img_path\"] = paths_val\n",
        "df2[\"labels\"] = labels_val\n",
        "df2.to_csv(\"./csv/val.csv\")\n",
        "df3 = pd.DataFrame()\n",
        "df3[\"img_path\"] = paths_test\n",
        "df3[\"labels\"] = labels_test\n",
        "df3.to_csv(\"./csv/test.csv\")"
      ]
    },
    {
      "cell_type": "code",
      "execution_count": 16,
      "metadata": {},
      "outputs": [
        {
          "data": {
            "text/plain": [
              "0    53548\n",
              "1     1158\n",
              "Name: cancer, dtype: int64"
            ]
          },
          "execution_count": 16,
          "metadata": {},
          "output_type": "execute_result"
        }
      ],
      "source": [
        "labels.value_counts()"
      ]
    },
    {
      "cell_type": "code",
      "execution_count": 17,
      "metadata": {},
      "outputs": [
        {
          "data": {
            "text/plain": [
              "0    42892\n",
              "1      927\n",
              "Name: cancer, dtype: int64"
            ]
          },
          "execution_count": 17,
          "metadata": {},
          "output_type": "execute_result"
        }
      ],
      "source": [
        "labels_train.value_counts()"
      ]
    },
    {
      "cell_type": "code",
      "execution_count": 18,
      "metadata": {},
      "outputs": [
        {
          "data": {
            "text/plain": [
              "0    5301\n",
              "1     115\n",
              "Name: cancer, dtype: int64"
            ]
          },
          "execution_count": 18,
          "metadata": {},
          "output_type": "execute_result"
        }
      ],
      "source": [
        "labels_val.value_counts()"
      ]
    },
    {
      "cell_type": "code",
      "execution_count": 19,
      "metadata": {},
      "outputs": [
        {
          "data": {
            "text/plain": [
              "0    5355\n",
              "1     116\n",
              "Name: cancer, dtype: int64"
            ]
          },
          "execution_count": 19,
          "metadata": {},
          "output_type": "execute_result"
        }
      ],
      "source": [
        "labels_test.value_counts()"
      ]
    },
    {
      "cell_type": "code",
      "execution_count": 20,
      "metadata": {},
      "outputs": [
        {
          "data": {
            "text/html": [
              "<div>\n",
              "<style scoped>\n",
              "    .dataframe tbody tr th:only-of-type {\n",
              "        vertical-align: middle;\n",
              "    }\n",
              "\n",
              "    .dataframe tbody tr th {\n",
              "        vertical-align: top;\n",
              "    }\n",
              "\n",
              "    .dataframe thead th {\n",
              "        text-align: right;\n",
              "    }\n",
              "</style>\n",
              "<table border=\"1\" class=\"dataframe\">\n",
              "  <thead>\n",
              "    <tr style=\"text-align: right;\">\n",
              "      <th></th>\n",
              "      <th>img_path</th>\n",
              "      <th>labels</th>\n",
              "    </tr>\n",
              "  </thead>\n",
              "  <tbody>\n",
              "    <tr>\n",
              "      <th>48370</th>\n",
              "      <td>./archive (1)/train_images/62043/1040092701.png</td>\n",
              "      <td>0</td>\n",
              "    </tr>\n",
              "    <tr>\n",
              "      <th>24511</th>\n",
              "      <td>./archive (1)/train_images/3625/2045356515.png</td>\n",
              "      <td>0</td>\n",
              "    </tr>\n",
              "    <tr>\n",
              "      <th>14646</th>\n",
              "      <td>./archive (1)/train_images/25630/762192354.png</td>\n",
              "      <td>0</td>\n",
              "    </tr>\n",
              "    <tr>\n",
              "      <th>49944</th>\n",
              "      <td>./archive (1)/train_images/63884/2074069873.png</td>\n",
              "      <td>0</td>\n",
              "    </tr>\n",
              "    <tr>\n",
              "      <th>11248</th>\n",
              "      <td>./archive (1)/train_images/22060/1790151672.png</td>\n",
              "      <td>0</td>\n",
              "    </tr>\n",
              "    <tr>\n",
              "      <th>...</th>\n",
              "      <td>...</td>\n",
              "      <td>...</td>\n",
              "    </tr>\n",
              "    <tr>\n",
              "      <th>41926</th>\n",
              "      <td>./archive (1)/train_images/55247/2132649741.png</td>\n",
              "      <td>0</td>\n",
              "    </tr>\n",
              "    <tr>\n",
              "      <th>611</th>\n",
              "      <td>./archive (1)/train_images/10638/1696075167.png</td>\n",
              "      <td>1</td>\n",
              "    </tr>\n",
              "    <tr>\n",
              "      <th>41669</th>\n",
              "      <td>./archive (1)/train_images/55010/733599660.png</td>\n",
              "      <td>0</td>\n",
              "    </tr>\n",
              "    <tr>\n",
              "      <th>12179</th>\n",
              "      <td>./archive (1)/train_images/23013/1514069703.png</td>\n",
              "      <td>0</td>\n",
              "    </tr>\n",
              "    <tr>\n",
              "      <th>26364</th>\n",
              "      <td>./archive (1)/train_images/38171/198144950.png</td>\n",
              "      <td>0</td>\n",
              "    </tr>\n",
              "  </tbody>\n",
              "</table>\n",
              "<p>5471 rows × 2 columns</p>\n",
              "</div>"
            ],
            "text/plain": [
              "                                              img_path  labels\n",
              "48370  ./archive (1)/train_images/62043/1040092701.png       0\n",
              "24511   ./archive (1)/train_images/3625/2045356515.png       0\n",
              "14646   ./archive (1)/train_images/25630/762192354.png       0\n",
              "49944  ./archive (1)/train_images/63884/2074069873.png       0\n",
              "11248  ./archive (1)/train_images/22060/1790151672.png       0\n",
              "...                                                ...     ...\n",
              "41926  ./archive (1)/train_images/55247/2132649741.png       0\n",
              "611    ./archive (1)/train_images/10638/1696075167.png       1\n",
              "41669   ./archive (1)/train_images/55010/733599660.png       0\n",
              "12179  ./archive (1)/train_images/23013/1514069703.png       0\n",
              "26364   ./archive (1)/train_images/38171/198144950.png       0\n",
              "\n",
              "[5471 rows x 2 columns]"
            ]
          },
          "execution_count": 20,
          "metadata": {},
          "output_type": "execute_result"
        }
      ],
      "source": [
        "df3"
      ]
    },
    {
      "cell_type": "code",
      "execution_count": null,
      "metadata": {},
      "outputs": [],
      "source": []
    }
  ],
  "metadata": {
    "colab": {
      "provenance": []
    },
    "kernelspec": {
      "display_name": "rsna",
      "language": "python",
      "name": "python3"
    },
    "language_info": {
      "codemirror_mode": {
        "name": "ipython",
        "version": 3
      },
      "file_extension": ".py",
      "mimetype": "text/x-python",
      "name": "python",
      "nbconvert_exporter": "python",
      "pygments_lexer": "ipython3",
      "version": "3.8.10"
    },
    "vscode": {
      "interpreter": {
        "hash": "0db49f141b29006e9c0ac24a72c1ca385a5513d827dc870d585dc390d5dd35b0"
      }
    }
  },
  "nbformat": 4,
  "nbformat_minor": 0
}
